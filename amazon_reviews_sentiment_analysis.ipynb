{
 "cells": [
  {
   "cell_type": "code",
   "execution_count": 20,
   "metadata": {},
   "outputs": [],
   "source": [
    "import numpy as np\n",
    "import pandas as pd\n",
    "import matplotlib.pyplot as plt\n",
    "from sklearn.naive_bayes import GaussianNB\n",
    "from sklearn.linear_model import LogisticRegression\n",
    "from sklearn.metrics import accuracy_score\n",
    "from sklearn.metrics import precision_score\n",
    "from sklearn.metrics import recall_score\n",
    "from sklearn.metrics import f1_score"
   ]
  },
  {
   "cell_type": "code",
   "execution_count": 3,
   "metadata": {},
   "outputs": [],
   "source": [
    "reviews = pd.read_csv('amazon_baby.csv')"
   ]
  },
  {
   "cell_type": "code",
   "execution_count": 4,
   "metadata": {},
   "outputs": [
    {
     "data": {
      "text/html": [
       "<div>\n",
       "<style scoped>\n",
       "    .dataframe tbody tr th:only-of-type {\n",
       "        vertical-align: middle;\n",
       "    }\n",
       "\n",
       "    .dataframe tbody tr th {\n",
       "        vertical-align: top;\n",
       "    }\n",
       "\n",
       "    .dataframe thead th {\n",
       "        text-align: right;\n",
       "    }\n",
       "</style>\n",
       "<table border=\"1\" class=\"dataframe\">\n",
       "  <thead>\n",
       "    <tr style=\"text-align: right;\">\n",
       "      <th></th>\n",
       "      <th>name</th>\n",
       "      <th>review</th>\n",
       "      <th>rating</th>\n",
       "    </tr>\n",
       "  </thead>\n",
       "  <tbody>\n",
       "    <tr>\n",
       "      <td>0</td>\n",
       "      <td>Planetwise Flannel Wipes</td>\n",
       "      <td>These flannel wipes are OK, but in my opinion ...</td>\n",
       "      <td>3</td>\n",
       "    </tr>\n",
       "    <tr>\n",
       "      <td>1</td>\n",
       "      <td>Planetwise Wipe Pouch</td>\n",
       "      <td>it came early and was not disappointed. i love...</td>\n",
       "      <td>5</td>\n",
       "    </tr>\n",
       "    <tr>\n",
       "      <td>2</td>\n",
       "      <td>Annas Dream Full Quilt with 2 Shams</td>\n",
       "      <td>Very soft and comfortable and warmer than it l...</td>\n",
       "      <td>5</td>\n",
       "    </tr>\n",
       "    <tr>\n",
       "      <td>3</td>\n",
       "      <td>Stop Pacifier Sucking without tears with Thumb...</td>\n",
       "      <td>This is a product well worth the purchase.  I ...</td>\n",
       "      <td>5</td>\n",
       "    </tr>\n",
       "    <tr>\n",
       "      <td>4</td>\n",
       "      <td>Stop Pacifier Sucking without tears with Thumb...</td>\n",
       "      <td>All of my kids have cried non-stop when I trie...</td>\n",
       "      <td>5</td>\n",
       "    </tr>\n",
       "  </tbody>\n",
       "</table>\n",
       "</div>"
      ],
      "text/plain": [
       "                                                name  \\\n",
       "0                           Planetwise Flannel Wipes   \n",
       "1                              Planetwise Wipe Pouch   \n",
       "2                Annas Dream Full Quilt with 2 Shams   \n",
       "3  Stop Pacifier Sucking without tears with Thumb...   \n",
       "4  Stop Pacifier Sucking without tears with Thumb...   \n",
       "\n",
       "                                              review  rating  \n",
       "0  These flannel wipes are OK, but in my opinion ...       3  \n",
       "1  it came early and was not disappointed. i love...       5  \n",
       "2  Very soft and comfortable and warmer than it l...       5  \n",
       "3  This is a product well worth the purchase.  I ...       5  \n",
       "4  All of my kids have cried non-stop when I trie...       5  "
      ]
     },
     "execution_count": 4,
     "metadata": {},
     "output_type": "execute_result"
    }
   ],
   "source": [
    "reviews.head()"
   ]
  },
  {
   "cell_type": "markdown",
   "metadata": {},
   "source": [
    "## Data Preprocessing and exploration"
   ]
  },
  {
   "cell_type": "code",
   "execution_count": 5,
   "metadata": {},
   "outputs": [],
   "source": [
    "# Dropping reviews with a rating of 3\n",
    "\n",
    "reviews = reviews[reviews['rating'] != 3]"
   ]
  },
  {
   "cell_type": "code",
   "execution_count": 6,
   "metadata": {},
   "outputs": [
    {
     "data": {
      "text/html": [
       "<div>\n",
       "<style scoped>\n",
       "    .dataframe tbody tr th:only-of-type {\n",
       "        vertical-align: middle;\n",
       "    }\n",
       "\n",
       "    .dataframe tbody tr th {\n",
       "        vertical-align: top;\n",
       "    }\n",
       "\n",
       "    .dataframe thead th {\n",
       "        text-align: right;\n",
       "    }\n",
       "</style>\n",
       "<table border=\"1\" class=\"dataframe\">\n",
       "  <thead>\n",
       "    <tr style=\"text-align: right;\">\n",
       "      <th></th>\n",
       "      <th>name</th>\n",
       "      <th>review</th>\n",
       "      <th>rating</th>\n",
       "    </tr>\n",
       "  </thead>\n",
       "  <tbody>\n",
       "    <tr>\n",
       "      <td>1</td>\n",
       "      <td>Planetwise Wipe Pouch</td>\n",
       "      <td>it came early and was not disappointed. i love...</td>\n",
       "      <td>5</td>\n",
       "    </tr>\n",
       "    <tr>\n",
       "      <td>2</td>\n",
       "      <td>Annas Dream Full Quilt with 2 Shams</td>\n",
       "      <td>Very soft and comfortable and warmer than it l...</td>\n",
       "      <td>5</td>\n",
       "    </tr>\n",
       "    <tr>\n",
       "      <td>3</td>\n",
       "      <td>Stop Pacifier Sucking without tears with Thumb...</td>\n",
       "      <td>This is a product well worth the purchase.  I ...</td>\n",
       "      <td>5</td>\n",
       "    </tr>\n",
       "    <tr>\n",
       "      <td>4</td>\n",
       "      <td>Stop Pacifier Sucking without tears with Thumb...</td>\n",
       "      <td>All of my kids have cried non-stop when I trie...</td>\n",
       "      <td>5</td>\n",
       "    </tr>\n",
       "    <tr>\n",
       "      <td>5</td>\n",
       "      <td>Stop Pacifier Sucking without tears with Thumb...</td>\n",
       "      <td>When the Binky Fairy came to our house, we did...</td>\n",
       "      <td>5</td>\n",
       "    </tr>\n",
       "  </tbody>\n",
       "</table>\n",
       "</div>"
      ],
      "text/plain": [
       "                                                name  \\\n",
       "1                              Planetwise Wipe Pouch   \n",
       "2                Annas Dream Full Quilt with 2 Shams   \n",
       "3  Stop Pacifier Sucking without tears with Thumb...   \n",
       "4  Stop Pacifier Sucking without tears with Thumb...   \n",
       "5  Stop Pacifier Sucking without tears with Thumb...   \n",
       "\n",
       "                                              review  rating  \n",
       "1  it came early and was not disappointed. i love...       5  \n",
       "2  Very soft and comfortable and warmer than it l...       5  \n",
       "3  This is a product well worth the purchase.  I ...       5  \n",
       "4  All of my kids have cried non-stop when I trie...       5  \n",
       "5  When the Binky Fairy came to our house, we did...       5  "
      ]
     },
     "execution_count": 6,
     "metadata": {},
     "output_type": "execute_result"
    }
   ],
   "source": [
    "reviews.head()"
   ]
  },
  {
   "cell_type": "code",
   "execution_count": 7,
   "metadata": {},
   "outputs": [
    {
     "name": "stdout",
     "output_type": "stream",
     "text": [
      "length of dataset before dropping nulls = 166752\n",
      "length of dataset after dropping nulls = 165679\n"
     ]
    }
   ],
   "source": [
    "# Dropping the null data points\n",
    "print(f'length of dataset before dropping nulls = {len(reviews)}')\n",
    "reviews = reviews.dropna()\n",
    "print(f'length of dataset after dropping nulls = {len(reviews)}')"
   ]
  },
  {
   "cell_type": "code",
   "execution_count": 8,
   "metadata": {},
   "outputs": [],
   "source": [
    "# Adding the sentiments column, 1 for positive sentiment and 0 for negative sentiment\n",
    "reviews['sentiment'] = reviews['rating'].apply(lambda x: 1 if x > 3 else 0)"
   ]
  },
  {
   "cell_type": "code",
   "execution_count": 9,
   "metadata": {},
   "outputs": [
    {
     "name": "stdout",
     "output_type": "stream",
     "text": [
      "Total Positive sentiments = 139318\n",
      "Total Negative sentiments = 26361\n"
     ]
    },
    {
     "data": {
      "image/png": "[encoded data removed]",
      "text/plain": [
       "<Figure size 360x360 with 1 Axes>"
      ]
     },
     "metadata": {},
     "output_type": "display_data"
    }
   ],
   "source": [
    "# visualizing the positive and negative sentiments\n",
    "positive_reviews = reviews[reviews['sentiment'] == 1]\n",
    "negative_reviews = reviews[reviews['sentiment'] == 0]\n",
    "print(f'Total Positive sentiments = {len(positive_reviews)}')\n",
    "print(f'Total Negative sentiments = {len(negative_reviews)}')      \n",
    "fig = plt.figure(figsize=(5, 5))\n",
    "labels = ['Positive', 'Negative']\n",
    "sizes = [len(positive_reviews), len(negative_reviews)] \n",
    "plt.pie(sizes, labels=labels, autopct='%1.1f%%', startangle=90)\n",
    "plt.axis('equal')\n",
    "plt.show()"
   ]
  },
  {
   "cell_type": "markdown",
   "metadata": {},
   "source": [
    "#### Performing Review Clean up Steps :\n",
    "- 1. Removing stop words \n",
    "- 2. Removing Punctuations (punctuations which are adding meaning like emoticons :) :( are not removed)\n",
    "- 3. Lowercase Reviews\n",
    "- 4. Perfom Stemming"
   ]
  },
  {
   "cell_type": "code",
   "execution_count": 10,
   "metadata": {},
   "outputs": [],
   "source": [
    "import string\n",
    "import re\n",
    "from nltk.corpus import stopwords\n",
    "from nltk.stem import PorterStemmer\n",
    "\n",
    "def process_review(review):\n",
    "    review_list = review.split()\n",
    "    review_clean = []\n",
    "    stemmer = PorterStemmer()\n",
    "    stopwords_english = stopwords.words('english')\n",
    "    for word in review_list:\n",
    "        if word not in stopwords_english and word not in string.punctuation:\n",
    "            word = word.translate(str.maketrans('','','@.,\\'!!!'))\n",
    "            if word != '':\n",
    "                if re.search(r'[(]\\w', word) is not None:\n",
    "                    clean_word = word[1:].lower()\n",
    "                    stem_word = stemmer.stem(clean_word)\n",
    "                    review_clean.append(stem_word)\n",
    "                elif re.search(r'\\w[)]', word) is not None:\n",
    "                    clean_word = word[:-1].lower()\n",
    "                    stem_word = stemmer.stem(clean_word)\n",
    "                    review_clean.append(stem_word)\n",
    "                else:\n",
    "                    clean_word = word.lower()\n",
    "                    stem_word = stemmer.stem(clean_word)\n",
    "                    review_clean.append(stem_word)\n",
    "    cleaned_review = ' '.join(review_clean)\n",
    "    return cleaned_review"
   ]
  },
  {
   "cell_type": "code",
   "execution_count": 11,
   "metadata": {},
   "outputs": [
    {
     "name": "stdout",
     "output_type": "stream",
     "text": [
      "ankit happi ankit love program :)\n",
      "\n",
      "hey you i talk\n",
      "\n",
      "i love journal nanni use everyday track daughter sleep eat activ the layout design make easi fill quickli comment column add detail ie ask nanni specifi food lunch amount milk took specif play time--tummi time walk park etc i love know detail babi day i also use track weekli overal schedul pattern chang ie babi nap time move natur get older)m complaint real space commun back nanni i sometim want repli nanni comment and/or leav note previou night ie babi sleep well babi rash etc instruct pleas use sun screen babi hot today i often forget tell rush morn i stick post-it note all all i highli recommend babi tracker\n"
     ]
    }
   ],
   "source": [
    "# Test cases to check function\n",
    "print(process_review('@Ankit is happy !!!, because ANKIT loves programming.! :)'))  # test case-1\n",
    "print()\n",
    "print(process_review('Hey! you, I am talking to you only !.'))  # test case-2\n",
    "print()\n",
    "print(process_review(reviews['review'][10])) # test case-3"
   ]
  },
  {
   "cell_type": "code",
   "execution_count": 12,
   "metadata": {},
   "outputs": [],
   "source": [
    "# Created a new column review clean to get the processed reviews\n",
    "reviews['review_clean'] = reviews['review'].apply(process_review)"
   ]
  },
  {
   "cell_type": "code",
   "execution_count": 13,
   "metadata": {},
   "outputs": [
    {
     "data": {
      "text/html": [
       "<div>\n",
       "<style scoped>\n",
       "    .dataframe tbody tr th:only-of-type {\n",
       "        vertical-align: middle;\n",
       "    }\n",
       "\n",
       "    .dataframe tbody tr th {\n",
       "        vertical-align: top;\n",
       "    }\n",
       "\n",
       "    .dataframe thead th {\n",
       "        text-align: right;\n",
       "    }\n",
       "</style>\n",
       "<table border=\"1\" class=\"dataframe\">\n",
       "  <thead>\n",
       "    <tr style=\"text-align: right;\">\n",
       "      <th></th>\n",
       "      <th>name</th>\n",
       "      <th>review</th>\n",
       "      <th>rating</th>\n",
       "      <th>sentiment</th>\n",
       "      <th>review_clean</th>\n",
       "    </tr>\n",
       "  </thead>\n",
       "  <tbody>\n",
       "    <tr>\n",
       "      <td>1</td>\n",
       "      <td>Planetwise Wipe Pouch</td>\n",
       "      <td>it came early and was not disappointed. i love...</td>\n",
       "      <td>5</td>\n",
       "      <td>1</td>\n",
       "      <td>came earli disappoint love planet wise bag wip...</td>\n",
       "    </tr>\n",
       "    <tr>\n",
       "      <td>2</td>\n",
       "      <td>Annas Dream Full Quilt with 2 Shams</td>\n",
       "      <td>Very soft and comfortable and warmer than it l...</td>\n",
       "      <td>5</td>\n",
       "      <td>1</td>\n",
       "      <td>veri soft comfort warmer looksfit full size be...</td>\n",
       "    </tr>\n",
       "    <tr>\n",
       "      <td>3</td>\n",
       "      <td>Stop Pacifier Sucking without tears with Thumb...</td>\n",
       "      <td>This is a product well worth the purchase.  I ...</td>\n",
       "      <td>5</td>\n",
       "      <td>1</td>\n",
       "      <td>thi product well worth purchas i found anyth e...</td>\n",
       "    </tr>\n",
       "    <tr>\n",
       "      <td>4</td>\n",
       "      <td>Stop Pacifier Sucking without tears with Thumb...</td>\n",
       "      <td>All of my kids have cried non-stop when I trie...</td>\n",
       "      <td>5</td>\n",
       "      <td>1</td>\n",
       "      <td>all kid cri non-stop i tri ween pacifi i found...</td>\n",
       "    </tr>\n",
       "    <tr>\n",
       "      <td>5</td>\n",
       "      <td>Stop Pacifier Sucking without tears with Thumb...</td>\n",
       "      <td>When the Binky Fairy came to our house, we did...</td>\n",
       "      <td>5</td>\n",
       "      <td>1</td>\n",
       "      <td>when binki fairi came hous special gift book h...</td>\n",
       "    </tr>\n",
       "  </tbody>\n",
       "</table>\n",
       "</div>"
      ],
      "text/plain": [
       "                                                name  \\\n",
       "1                              Planetwise Wipe Pouch   \n",
       "2                Annas Dream Full Quilt with 2 Shams   \n",
       "3  Stop Pacifier Sucking without tears with Thumb...   \n",
       "4  Stop Pacifier Sucking without tears with Thumb...   \n",
       "5  Stop Pacifier Sucking without tears with Thumb...   \n",
       "\n",
       "                                              review  rating  sentiment  \\\n",
       "1  it came early and was not disappointed. i love...       5          1   \n",
       "2  Very soft and comfortable and warmer than it l...       5          1   \n",
       "3  This is a product well worth the purchase.  I ...       5          1   \n",
       "4  All of my kids have cried non-stop when I trie...       5          1   \n",
       "5  When the Binky Fairy came to our house, we did...       5          1   \n",
       "\n",
       "                                        review_clean  \n",
       "1  came earli disappoint love planet wise bag wip...  \n",
       "2  veri soft comfort warmer looksfit full size be...  \n",
       "3  thi product well worth purchas i found anyth e...  \n",
       "4  all kid cri non-stop i tri ween pacifi i found...  \n",
       "5  when binki fairi came hous special gift book h...  "
      ]
     },
     "execution_count": 13,
     "metadata": {},
     "output_type": "execute_result"
    }
   ],
   "source": [
    "reviews.head()"
   ]
  },
  {
   "cell_type": "markdown",
   "metadata": {},
   "source": [
    "##### Tf-Idf vector of reviews clean"
   ]
  },
  {
   "cell_type": "code",
   "execution_count": 14,
   "metadata": {},
   "outputs": [],
   "source": [
    "from sklearn.feature_extraction.text import TfidfVectorizer\n",
    "vectorizer = TfidfVectorizer()\n",
    "reviews_matrix = vectorizer.fit_transform(reviews['review_clean'])"
   ]
  },
  {
   "cell_type": "code",
   "execution_count": 36,
   "metadata": {},
   "outputs": [
    {
     "data": {
      "text/plain": [
       "<165679x96349 sparse matrix of type '<class 'numpy.float64'>'\n",
       "\twith 5897688 stored elements in Compressed Sparse Row format>"
      ]
     },
     "execution_count": 36,
     "metadata": {},
     "output_type": "execute_result"
    }
   ],
   "source": [
    "reviews_matrix"
   ]
  },
  {
   "cell_type": "markdown",
   "metadata": {},
   "source": [
    "#### Original Imbalanced Data"
   ]
  },
  {
   "cell_type": "code",
   "execution_count": 53,
   "metadata": {},
   "outputs": [],
   "source": [
    "from sklearn.linear_model import LogisticRegression\n",
    "from sklearn.model_selection import StratifiedKFold\n",
    "\n",
    "model1 = LogisticRegression()\n",
    "\n",
    "def lr_cv(X, y, n_splits, pipeline):\n",
    "    kfold = StratifiedKFold(n_splits=n_splits, shuffle=True, random_state=777)\n",
    "    accuracy = []\n",
    "    precision = []\n",
    "    recall = []\n",
    "    f1 = []\n",
    "    for train, test in kfold.split(X,y):\n",
    "        lr_fit = pipeline.fit(X[train], y[train])\n",
    "        predictions = lr_fit.predict(X[test])\n",
    "        accuracy.append(accuracy_score(y[test], predictions))\n",
    "        recall.append(recall_score(y[test], predictions))\n",
    "        precision.append(precision_score(y[test], predictions))\n",
    "        f1.append(f1_score(y[test], predictions))\n",
    "        print(f'Accuracy : {accuracy_score(y[test], predictions)}')\n",
    "        print(f'Precision Score: {precision_score(y[test], predictions)}')\n",
    "        print(f'Recall Score: {recall_score(y[test], predictions)}')\n",
    "        print(f'F1 Score: {f1_score(y[test], predictions)}')\n",
    "        print('|------------------------------------------------------|')\n",
    "    print(\"accuracy: %.2f%% (+/- %.2f%%)\" % (np.mean(accuracy), np.std(accuracy)))\n",
    "    print(\"precision: %.2f%% (+/- %.2f%%)\" % (np.mean(precision), np.std(precision)))\n",
    "    print(\"recall: %.2f%% (+/- %.2f%%)\" % (np.mean(recall), np.std(recall)))\n",
    "    print(\"f1 score: %.2f%% (+/- %.2f%%)\" % (np.mean(f1), np.std(f1)))\n",
    "    return lr_fit"
   ]
  },
  {
   "cell_type": "code",
   "execution_count": 54,
   "metadata": {},
   "outputs": [
    {
     "name": "stderr",
     "output_type": "stream",
     "text": [
      "C:\\Users\\DELL\\Anaconda3\\lib\\site-packages\\sklearn\\linear_model\\logistic.py:432: FutureWarning: Default solver will be changed to 'lbfgs' in 0.22. Specify a solver to silence this warning.\n",
      "  FutureWarning)\n"
     ]
    },
    {
     "name": "stdout",
     "output_type": "stream",
     "text": [
      "Accuracy : 0.9253425070915565\n",
      "Precision Score: 0.93694499896744\n",
      "Recall Score: 0.976959517657192\n",
      "F1 Score: 0.9565339611370745\n",
      "|------------------------------------------------------|\n",
      "Accuracy : 0.9218372766779334\n",
      "Precision Score: 0.9326258130777131\n",
      "Recall Score: 0.9776772896927935\n",
      "F1 Score: 0.9546203174825665\n",
      "|------------------------------------------------------|\n",
      "Accuracy : 0.9250362143891839\n",
      "Precision Score: 0.9365625430026145\n",
      "Recall Score: 0.9770312948607522\n",
      "F1 Score: 0.9563690016159629\n",
      "|------------------------------------------------------|\n",
      "Accuracy : 0.9247947851279575\n",
      "Precision Score: 0.9368457300275482\n",
      "Recall Score: 0.9763853000287109\n",
      "F1 Score: 0.9562069450302263\n",
      "|------------------------------------------------------|\n",
      "Accuracy : 0.9269676484789957\n",
      "Precision Score: 0.938810706401766\n",
      "Recall Score: 0.9768159632500718\n",
      "F1 Score: 0.9574363303785002\n",
      "|------------------------------------------------------|\n",
      "Accuracy : 0.9281144374698214\n",
      "Precision Score: 0.9390117841637379\n",
      "Recall Score: 0.9780361757105943\n",
      "F1 Score: 0.9581267798755406\n",
      "|------------------------------------------------------|\n",
      "Accuracy : 0.9299855142443264\n",
      "Precision Score: 0.9389606818806708\n",
      "Recall Score: 0.9804766006316394\n",
      "F1 Score: 0.9592696629213483\n",
      "|------------------------------------------------------|\n",
      "Accuracy : 0.9270883631096088\n",
      "Precision Score: 0.9383958103638368\n",
      "Recall Score: 0.9774619580821131\n",
      "F1 Score: 0.9575305864154128\n",
      "|------------------------------------------------------|\n",
      "Accuracy : 0.92684251825919\n",
      "Precision Score: 0.9370490000687238\n",
      "Recall Score: 0.9787524226545116\n",
      "F1 Score: 0.9574468085106383\n",
      "|------------------------------------------------------|\n",
      "Accuracy : 0.9246695237520371\n",
      "Precision Score: 0.9374353314478858\n",
      "Recall Score: 0.9755222166391501\n",
      "F1 Score: 0.9560996200928662\n",
      "|------------------------------------------------------|\n",
      "accuracy: 0.93% (+/- 0.00%)\n",
      "precision: 0.94% (+/- 0.00%)\n",
      "recall: 0.98% (+/- 0.00%)\n",
      "f1 score: 0.96% (+/- 0.00%)\n"
     ]
    }
   ],
   "source": [
    "from sklearn.pipeline import Pipeline\n",
    "\n",
    "original_pipeline = Pipeline([('classifier', model1)])\n",
    "\n",
    "lr = lr_cv(reviews_matrix, reviews['sentiment'].to_numpy(), 10, original_pipeline)"
   ]
  },
  {
   "cell_type": "code",
   "execution_count": 75,
   "metadata": {},
   "outputs": [
    {
     "name": "stdout",
     "output_type": "stream",
     "text": [
      "Accuracy : 0.8439254028607641\n",
      "Precision Score: 0.8440266828380837\n",
      "Recall Score: 0.9989951191501579\n",
      "F1 Score: 0.9149957267766748\n",
      "|------------------------------------------------------|\n",
      "Accuracy : 0.8432520521487205\n",
      "Precision Score: 0.8432144371101556\n",
      "Recall Score: 0.9994257823715188\n",
      "F1 Score: 0.9146986368861882\n",
      "|------------------------------------------------------|\n",
      "Accuracy : 0.8434331240946402\n",
      "Precision Score: 0.8437007396629077\n",
      "Recall Score: 0.9988515647430376\n",
      "F1 Score: 0.9147439689739039\n",
      "|------------------------------------------------------|\n",
      "Accuracy : 0.8433124094640271\n",
      "Precision Score: 0.8435567947630016\n",
      "Recall Score: 0.9989233419465977\n",
      "F1 Score: 0.9146894511994742\n",
      "|------------------------------------------------------|\n",
      "Accuracy : 0.8438556253017866\n",
      "Precision Score: 0.8437670444215503\n",
      "Recall Score: 0.9993540051679587\n",
      "F1 Score: 0.9149935924818454\n",
      "|------------------------------------------------------|\n",
      "Accuracy : 0.8436745533558667\n",
      "Precision Score: 0.8436969696969697\n",
      "Recall Score: 0.9992104507608384\n",
      "F1 Score: 0.9148922187171399\n",
      "|------------------------------------------------------|\n",
      "Accuracy : 0.8436141960405601\n",
      "Precision Score: 0.8438959306204136\n",
      "Recall Score: 0.9987797875394775\n",
      "F1 Score: 0.9148285723677723\n",
      "|------------------------------------------------------|\n",
      "Accuracy : 0.8438556253017866\n",
      "Precision Score: 0.8437670444215503\n",
      "Recall Score: 0.9993540051679587\n",
      "F1 Score: 0.9149935924818454\n",
      "|------------------------------------------------------|\n",
      "Accuracy : 0.842578620148488\n",
      "Precision Score: 0.8432252197635647\n",
      "Recall Score: 0.9984207881702678\n",
      "F1 Score: 0.9142838361927298\n",
      "|------------------------------------------------------|\n",
      "Accuracy : 0.8434840345264683\n",
      "Precision Score: 0.8436174081706873\n",
      "Recall Score: 0.99906682937334\n",
      "F1 Score: 0.9147852377666043\n",
      "|------------------------------------------------------|\n",
      "accuracy: 0.84% (+/- 0.00%)\n",
      "precision: 0.84% (+/- 0.00%)\n",
      "recall: 1.00% (+/- 0.00%)\n",
      "f1 score: 0.91% (+/- 0.00%)\n"
     ]
    }
   ],
   "source": [
    "from sklearn.naive_bayes import MultinomialNB\n",
    "\n",
    "model2 = MultinomialNB()\n",
    "\n",
    "original_pipeline = Pipeline([('classifier', model2)])\n",
    "\n",
    "lr2 = lr_cv(reviews_matrix, reviews['sentiment'].to_numpy(), 10, original_pipeline)"
   ]
  },
  {
   "cell_type": "code",
   "execution_count": 103,
   "metadata": {},
   "outputs": [
    {
     "data": {
      "text/plain": [
       "array([0], dtype=int64)"
      ]
     },
     "execution_count": 103,
     "metadata": {},
     "output_type": "execute_result"
    }
   ],
   "source": [
    "lr.predict(vectorizer.transform(['This earphone']))"
   ]
  },
  {
   "cell_type": "code",
   "execution_count": null,
   "metadata": {},
   "outputs": [],
   "source": []
  }
 ],
 "metadata": {
  "kernelspec": {
   "display_name": "Python 3",
   "language": "python",
   "name": "python3"
  },
  "language_info": {
   "codemirror_mode": {
    "name": "ipython",
    "version": 3
   },
   "file_extension": ".py",
   "mimetype": "text/x-python",
   "name": "python",
   "nbconvert_exporter": "python",
   "pygments_lexer": "ipython3",
   "version": "3.7.4"
  }
 },
 "nbformat": 4,
 "nbformat_minor": 2
}
